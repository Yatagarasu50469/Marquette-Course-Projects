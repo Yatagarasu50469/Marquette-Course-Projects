{
 "cells": [
  {
   "cell_type": "code",
   "execution_count": 78,
   "metadata": {},
   "outputs": [],
   "source": [
    "import numpy as np\n",
    "from numpy import linalg as LA\n",
    "import matplotlib.pyplot as plt\n",
    "import pandas as pd\n",
    "from sklearn.utils import shuffle\n",
    "import math\n",
    "from scipy.stats import multivariate_normal\n",
    "\n",
    "filename = 'iris.csv' #Indicate filename containing dataset\n",
    "classifierID = 'species' #Specify the classifier name sought for prediction\n",
    "\n",
    "iris = pd.read_csv(filename, na_values='?') #Read in dataset\n",
    "\n",
    "#Remove classifier name (type:string)\n",
    "iris = iris.drop(['species'], axis=1)\n",
    "\n",
    "#Centralize dataset\n",
    "iris -= np.mean(iris, axis=0)\n",
    "\n",
    "#Standardize variates\n",
    "stdized = iris/np.std(iris,axis=0)\n",
    "\n",
    "#Calculate the covariance matrix\n",
    "A = np.corrcoef(iris, rowvar=0) #rowvar; each column is a varaible\n",
    "\n",
    "#Find eigen values and vectors\n",
    "eigVals, eigVects = LA.eig(A)\n",
    "\n",
    "#Sort the eigenvalues in order from small to large\n",
    "eigValsOrder = list(np.argsort(eigVals)) #sort large to small\n",
    "eigValsOrder = eigValsOrder[:-1] #reverse order \n",
    "\n",
    "eigenValsort = np.take(eigVals,eigValsOrder)\n",
    "eigenVectSort = np.take(eigVects,eigValsOrder,axis=1)"
   ]
  },
  {
   "cell_type": "code",
   "execution_count": null,
   "metadata": {
    "scrolled": true
   },
   "outputs": [],
   "source": []
  },
  {
   "cell_type": "code",
   "execution_count": null,
   "metadata": {},
   "outputs": [],
   "source": []
  },
  {
   "cell_type": "code",
   "execution_count": null,
   "metadata": {},
   "outputs": [],
   "source": []
  },
  {
   "cell_type": "code",
   "execution_count": null,
   "metadata": {},
   "outputs": [],
   "source": []
  },
  {
   "cell_type": "code",
   "execution_count": null,
   "metadata": {},
   "outputs": [],
   "source": []
  }
 ],
 "metadata": {
  "kernelspec": {
   "display_name": "Python 3",
   "language": "python",
   "name": "python3"
  },
  "language_info": {
   "codemirror_mode": {
    "name": "ipython",
    "version": 3
   },
   "file_extension": ".py",
   "mimetype": "text/x-python",
   "name": "python",
   "nbconvert_exporter": "python",
   "pygments_lexer": "ipython3",
   "version": "3.7.0"
  }
 },
 "nbformat": 4,
 "nbformat_minor": 2
}
