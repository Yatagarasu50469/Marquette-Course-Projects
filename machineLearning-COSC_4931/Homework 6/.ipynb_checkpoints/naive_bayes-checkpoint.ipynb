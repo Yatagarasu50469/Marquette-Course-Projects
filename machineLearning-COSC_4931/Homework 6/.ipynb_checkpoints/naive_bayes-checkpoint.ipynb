{
 "cells": [
  {
   "cell_type": "code",
   "execution_count": 130,
   "metadata": {},
   "outputs": [
    {
     "name": "stderr",
     "output_type": "stream",
     "text": [
      "/Users/Yatagarasu/anaconda3/lib/python3.7/site-packages/ipykernel_launcher.py:48: SettingWithCopyWarning: \n",
      "A value is trying to be set on a copy of a slice from a DataFrame\n",
      "\n",
      "See the caveats in the documentation: http://pandas.pydata.org/pandas-docs/stable/indexing.html#indexing-view-versus-copy\n"
     ]
    },
    {
     "name": "stdout",
     "output_type": "stream",
     "text": [
      "Accuracy:  100.0\n",
      "Successes:  15\n",
      "Failures:  0\n"
     ]
    }
   ],
   "source": [
    "import numpy as np\n",
    "import pandas as pd\n",
    "from sklearn.utils import shuffle\n",
    "import math\n",
    "from scipy.stats import multivariate_normal\n",
    "\n",
    "#Object to hold class statistical data\n",
    "class class_Data:\n",
    "    def __init__(self, classLabel, mu, covArray):\n",
    "        self.classLabel = classLabel\n",
    "        self.mu = mu\n",
    "        self.covArray = covArray\n",
    "\n",
    "trainSplit = 0.9 #Indicate portion of data to use for training; test is 1-trainSplit\n",
    "filename = 'iris.csv' #Indicate filename containing dataset\n",
    "classifierID = 'species' #Specify the classifier name sought for prediction\n",
    "\n",
    "iris = pd.read_csv(filename, na_values='?') #Read in dataset\n",
    "iris = shuffle(iris) #Randomize dataset\n",
    "numTrain = int(len(iris.index)*trainSplit) #Find number of training examples\n",
    "trainingData = iris.iloc[0:numTrain] #Split off a training dataset\n",
    "testData = iris.iloc[numTrain:(len(iris.index))] #Split off a test dataset\n",
    "\n",
    "#Get characteristic names\n",
    "columnNames=list(trainingData.columns.values)\n",
    "columnNames.remove(columnNames[len(columnNames)-1])\n",
    "#Get list of unique values\n",
    "countVals = trainingData[classifierID].value_counts().rename_axis('unique_values').reset_index(name='counts')\n",
    "#Construct list for each class' data (mu and covariance Array)\n",
    "classDataList = []\n",
    "#Build lookup tables for each class\n",
    "for i in range (0, countVals['unique_values'].count()): #For each of the classes\n",
    "    #Calculate mean and covarience, then copy them into storage; covariance unbiased as normalized by N-1\n",
    "    mu = trainingData[trainingData[classifierID]==countVals['unique_values'].iloc[i]].mean().values\n",
    "    covArray = trainingData[trainingData[classifierID]==countVals['unique_values'].iloc[i]].cov().values\n",
    "    classObject = class_Data(countVals['unique_values'].iloc[i], mu, covArray)\n",
    "    classDataList.append(classObject)\n",
    "\n",
    "successes = 0 #Create a counter for the number of times a classifier was accuratley predicted\n",
    "#For each of the test data points determine which classifier has the highest probability\n",
    "for h in range (0, len(testData)):\n",
    "    testPoint = testData.drop([classifierID], axis=1).iloc[h].values #Create a test point without the classifierID value included\n",
    "    #Create a table to hold the probabilities for each classifier being true\n",
    "    prob = pd.DataFrame(countVals['unique_values'])\n",
    "    prob['posterior_prob']=np.nan \n",
    "    for i in range (0, countVals['unique_values'].count()): #For each of the possible classifierIDs\n",
    "        #Evaluate the probabilities, choosing the species that has the maximum probability as the test classifier\n",
    "        prob['posterior_prob'][i] = multivariate_normal.pdf(testPoint, classDataList[i].mu, classDataList[i].covArray)\n",
    "        testClassifier = prob.loc[prob['posterior_prob'].idxmax()]['unique_values']\n",
    "    #print(\"probs\\n\",prob)\n",
    "    #Compare the test classifier to the actual classifier\n",
    "    if (testClassifier == testData[classifierID].iloc[h]): #If the testClassifier was correct\n",
    "        successes = successes+1 #Increase the count of successes\n",
    "print(\"Accuracy: \", (successes/len(testData))*100)\n",
    "print(\"Successes: \", successes)\n",
    "print(\"Failures: \", len(testData)-successes)"
   ]
  },
  {
   "cell_type": "code",
   "execution_count": null,
   "metadata": {},
   "outputs": [],
   "source": []
  },
  {
   "cell_type": "code",
   "execution_count": null,
   "metadata": {},
   "outputs": [],
   "source": []
  },
  {
   "cell_type": "code",
   "execution_count": null,
   "metadata": {},
   "outputs": [],
   "source": []
  },
  {
   "cell_type": "code",
   "execution_count": null,
   "metadata": {},
   "outputs": [],
   "source": []
  },
  {
   "cell_type": "code",
   "execution_count": null,
   "metadata": {
    "scrolled": true
   },
   "outputs": [],
   "source": []
  },
  {
   "cell_type": "code",
   "execution_count": null,
   "metadata": {},
   "outputs": [],
   "source": []
  },
  {
   "cell_type": "code",
   "execution_count": null,
   "metadata": {},
   "outputs": [],
   "source": []
  },
  {
   "cell_type": "code",
   "execution_count": null,
   "metadata": {},
   "outputs": [],
   "source": []
  },
  {
   "cell_type": "code",
   "execution_count": null,
   "metadata": {
    "scrolled": false
   },
   "outputs": [],
   "source": []
  },
  {
   "cell_type": "code",
   "execution_count": null,
   "metadata": {},
   "outputs": [],
   "source": []
  },
  {
   "cell_type": "code",
   "execution_count": null,
   "metadata": {},
   "outputs": [],
   "source": []
  },
  {
   "cell_type": "code",
   "execution_count": null,
   "metadata": {},
   "outputs": [],
   "source": []
  },
  {
   "cell_type": "code",
   "execution_count": null,
   "metadata": {},
   "outputs": [],
   "source": []
  }
 ],
 "metadata": {
  "kernelspec": {
   "display_name": "Python 3",
   "language": "python",
   "name": "python3"
  },
  "language_info": {
   "codemirror_mode": {
    "name": "ipython",
    "version": 3
   },
   "file_extension": ".py",
   "mimetype": "text/x-python",
   "name": "python",
   "nbconvert_exporter": "python",
   "pygments_lexer": "ipython3",
   "version": "3.7.0"
  }
 },
 "nbformat": 4,
 "nbformat_minor": 2
}
